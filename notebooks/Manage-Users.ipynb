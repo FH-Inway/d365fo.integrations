{
 "cells": [
  {
   "cell_type": "markdown",
   "metadata": {
    "dotnet_interactive": {
     "language": "pwsh"
    },
    "polyglot_notebook": {
     "kernelName": "pwsh"
    }
   },
   "source": [
    "# Manage users\n",
    "\n",
    "In this scenario, you are going to learn how d365fo.integrations can be leverages to manage users in Dynamics 365 for Finance and Operations.\n",
    "The notebook will walk you through retrieving, creating, updating and deleting users in Dynamics 365 for Finance and Operations.\n",
    "Along the way, you will learn concepts of OData entities and how to interact with them using d365fo.integrations.\n",
    "\n",
    "## Prerequisites\n",
    "\n",
    "This notebooks assumes that d365fo.integrations is installed and you have a basic understanding of it, how to configure it for use and how to use `Get-Help` and `Get-Command` to discover available commands and their usage. If you are new to d365fo.integrations or want a refresher, please refer to the [Getting Started](./getting_started.ipynb) notebook.\n",
    "\n",
    "Use the following cell to create a temporary configuration. If you already have a configuration, you can skip this step."
   ]
  },
  {
   "cell_type": "code",
   "execution_count": null,
   "metadata": {
    "dotnet_interactive": {
     "language": "pwsh"
    },
    "polyglot_notebook": {
     "kernelName": "pwsh"
    }
   },
   "outputs": [],
   "source": [
    "$tenantId = Read-Host -Prompt \"Enter your tenant id\"\n",
    "$clientId = Read-Host -Prompt \"Enter your client id\"\n",
    "$clientSecret = Read-Host -Prompt \"Enter your client secret\"\n",
    "$name = Read-Host -Prompt \"Enter a name for the configuration\"\n",
    "$url = Read-Host -Prompt \"Enter the URL of the D365FO environment\"\n",
    "\n",
    "Add-D365ODataConfig -Tenant $tenantId -ClientId $clientId -ClientSecret $clientSecret -Name $name -Url $url -Temporary\n",
    "Set-D365ActiveODataConfig -Name $name -Temporary"
   ]
  },
  {
   "cell_type": "markdown",
   "metadata": {},
   "source": [
    "# The SystemUser entity\n",
    "\n",
    "For managing users, we will be using the `SystemUsers` OData entity. To make it easier to work with this entity and allow you to change it to another entity, the next cell stores the entity name in a variable."
   ]
  },
  {
   "cell_type": "code",
   "execution_count": 9,
   "metadata": {
    "dotnet_interactive": {
     "language": "pwsh"
    },
    "polyglot_notebook": {
     "kernelName": "pwsh"
    }
   },
   "outputs": [],
   "source": [
    "$entityName = \"SystemUsers\""
   ]
  },
  {
   "cell_type": "markdown",
   "metadata": {},
   "source": [
    "## Plural or singular name\n",
    "\n",
    "Note that the actual entity name is `SystemUser` (singular) and not `SystemUsers` (plural). OData has a concept **EntitySetName** which is the name of the entity set exposed by the OData service. The entity set name is usually the plural form of the entity name. In this case, the entity set name is `SystemUsers`. In most situations, OData will want you to use the entity set name instead of the entity name. \n",
    "\n",
    "In practice it can get confusing when to use the singular and when to use the plural name. Some cmdlets of d365fo.integrations help you by accepting both the singular and plural form of the entity name. It will then determine the right form to use behind the scenes when making the request to the OData service.\n",
    "\n",
    "## Entity metadata\n",
    "\n",
    "Another important concept to know when working with OData entities is the entity metadata. The metadata contains information about the entity, its properties, navigation properties, and other information. \n",
    "\n",
    "To retrieve the metadata for an entity, you can use the `Get-D365ODataPublicEntity` cmdlet. You can run the cmdlet without any parameters, which will retrieve the metadata for all entities. It is not advisable to do that, since there are thousands of entities. \n",
    "\n",
    "The most important information is the properties (i.e. the fields)."
   ]
  },
  {
   "cell_type": "code",
   "execution_count": 10,
   "metadata": {
    "dotnet_interactive": {
     "language": "pwsh"
    },
    "polyglot_notebook": {
     "kernelName": "pwsh"
    }
   },
   "outputs": [
    {
     "name": "stdout",
     "output_type": "stream",
     "text": [
      "\n",
      "\u001b[32;1mName                 : \u001b[0mSystemUser\n",
      "\u001b[32;1mEntitySetName        : \u001b[0mSystemUsers\n",
      "\u001b[32;1mLabelId              : \u001b[0m@SYS12108\n",
      "\u001b[32;1mIsReadOnly           : \u001b[0mFalse\n",
      "\u001b[32;1mConfigurationEnabled : \u001b[0mTrue\n",
      "\u001b[32;1mProperties           : \u001b[0m{@{Name=UserID; TypeName=Edm.String; DataType=String; \n",
      "                       LabelId=@Kernel:UserInfo_ID; IsKey=True; IsMandatory=True; \n",
      "                       ConfigurationEnabled=True; AllowEdit=False; AllowEditOnCreate=True; \n",
      "                       IsDimension=False; DimensionRelation=; IsDynamicDimension=False; \n",
      "                       DimensionLegalEntityProperty=; DimensionTypeProperty=}, \n",
      "                       @{Name=WorkflowLineItemNotificationFormat; TypeName=Microsoft.Dynamics.DataE\n",
      "                       ntities.WorkflowLineItemNotificationFormat; DataType=Enum; \n",
      "                       LabelId=@SYS332736; IsKey=False; IsMandatory=False; \n",
      "                       ConfigurationEnabled=True; AllowEdit=True; AllowEditOnCreate=True; \n",
      "                       IsDimension=False; DimensionRelation=; IsDynamicDimension=False; \n",
      "                       DimensionLegalEntityProperty=; DimensionTypeProperty=}, \n",
      "                       @{Name=DocumentHandlingActive; \n",
      "                       TypeName=Microsoft.Dynamics.DataEntities.NoYes; DataType=Enum; \n",
      "                       LabelId=@SYS60460; IsKey=False; IsMandatory=False; \n",
      "                       ConfigurationEnabled=True; AllowEdit=True; AllowEditOnCreate=True; \n",
      "                       IsDimension=False; DimensionRelation=; IsDynamicDimension=False; \n",
      "                       DimensionLegalEntityProperty=; DimensionTypeProperty=}, \n",
      "                       @{Name=UserInfo_defaultPartition; TypeName=Edm.Boolean; DataType=Enum; \n",
      "                       LabelId=; IsKey=False; IsMandatory=False; ConfigurationEnabled=True; \n",
      "                       AllowEdit=True; AllowEditOnCreate=True; IsDimension=False; \n",
      "                       DimensionRelation=; IsDynamicDimension=False; \n",
      "                       DimensionLegalEntityProperty=; DimensionTypeProperty=}…}\n",
      "\u001b[32;1mNavigationProperties : \u001b[0m{@{Name=DefaultBudgetManager; RelatedEntity=BudgetControlConfiguration; \n",
      "                       RelatedRelationName=BudgetControlConfigurationDefaultBudgetManager; \n",
      "                       Cardinality=Multiple; Constraints=System.Object[]}, \n",
      "                       @{Name=BudgetControlRuleBudgetManager; RelatedEntity=BudgetControlRule; \n",
      "                       RelatedRelationName=BudgetManagers; Cardinality=Multiple; \n",
      "                       Constraints=System.Object[]}, @{Name=UserGroupUserList; \n",
      "                       RelatedEntity=UserGroupUserList; RelatedRelationName=SystemUser; \n",
      "                       Cardinality=Multiple; Constraints=System.Object[]}, \n",
      "                       @{Name=BudgetControlGroupBudgetManager; RelatedEntity=BudgetControlGroup; \n",
      "                       RelatedRelationName=BudgetManagers; Cardinality=Multiple; \n",
      "                       Constraints=System.Object[]}…}\n",
      "\u001b[32;1mPropertyGroups       : \u001b[0m{}\n",
      "\u001b[32;1mActions              : \u001b[0m{}\n",
      "\n"
     ]
    }
   ],
   "source": [
    "$entityMetadata = Get-D365ODataPublicEntity -EntityName $entityName\n",
    "$entityMetadata"
   ]
  }
 ],
 "metadata": {
  "kernelspec": {
   "display_name": ".NET (C#)",
   "language": "C#",
   "name": ".net-csharp"
  },
  "polyglot_notebook": {
   "kernelInfo": {
    "defaultKernelName": "csharp",
    "items": [
     {
      "aliases": [],
      "name": "csharp"
     },
     {
      "aliases": [],
      "languageName": "pwsh",
      "name": "pwsh"
     }
    ]
   }
  }
 },
 "nbformat": 4,
 "nbformat_minor": 2
}
