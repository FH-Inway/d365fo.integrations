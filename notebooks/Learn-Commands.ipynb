{
 "cells": [
  {
   "cell_type": "markdown",
   "metadata": {},
   "source": [
    "# Learn commands\n",
    "\n",
    "The d365fo.integrations module contains multiple cmdlets. Use this notebook to learn how to get to know them.\n",
    "\n",
    "If this is your first time using this module, take a look at the [Get Started](Get-Started.ipynb) notebook.\n",
    "\n",
    "# List the available commands\n",
    "\n",
    "To list the available commands, use the `Get-Command` cmdlet."
   ]
  },
  {
   "cell_type": "code",
   "execution_count": 2,
   "metadata": {
    "dotnet_interactive": {
     "language": "pwsh"
    },
    "polyglot_notebook": {
     "kernelName": "pwsh"
    },
    "vscode": {
     "languageId": "polyglot-notebook"
    }
   },
   "outputs": [
    {
     "name": "stdout",
     "output_type": "stream",
     "text": [
      "\n",
      "\u001b[32;1mCommandType    \u001b[0m\u001b[32;1m Name                                              \u001b[0m\u001b[32;1m Version   \u001b[0m\u001b[32;1m Source\u001b[0m\n",
      "\u001b[32;1m-----------    \u001b[0m \u001b[32;1m----                                              \u001b[0m \u001b[32;1m-------   \u001b[0m \u001b[32;1m------\u001b[0m\n",
      "Function        Add-D365ODataConfig                                0.4.39     d365fo.integrations\n",
      "Function        Enable-D365ExceptionIntegrations                   0.4.39     d365fo.integrations\n",
      "Function        Export-D365DmfPackage                              0.4.39     d365fo.integrations\n",
      "Function        Get-D365ActiveODataConfig                          0.4.39     d365fo.integrations\n",
      "Function        Get-D365DmfDataEntity                              0.4.39     d365fo.integrations\n",
      "Function        Get-D365DmfMessageStatus                           0.4.39     d365fo.integrations\n",
      "Function        Get-D365ODataConfig                                0.4.39     d365fo.integrations\n",
      "Function        Get-D365ODataEntityData                            0.4.39     d365fo.integrations\n",
      "Function        Get-D365ODataEntityDataByKey                       0.4.39     d365fo.integrations\n",
      "Function        Get-D365ODataEntityKey                             0.4.39     d365fo.integrations\n",
      "Function        Get-D365ODataEntityMandatoryField                  0.4.39     d365fo.integrations\n",
      "Function        Get-D365ODataEntityUrl                             0.4.39     d365fo.integrations\n",
      "Function        Get-D365ODataMetadata                              0.4.39     d365fo.integrations\n",
      "Function        Get-D365ODataPublicEntity                          0.4.39     d365fo.integrations\n",
      "Function        Get-D365ODataPublicEnum                            0.4.39     d365fo.integrations\n",
      "Function        Get-D365ODataToken                                 0.4.39     d365fo.integrations\n",
      "Function        Get-D365ODataTokenInteractive                      0.4.39     d365fo.integrations\n",
      "Function        Get-D365RestService                                0.4.39     d365fo.integrations\n",
      "Function        Get-D365RestServiceGroup                           0.4.39     d365fo.integrations\n",
      "Function        Get-D365RestServiceOperation                       0.4.39     d365fo.integrations\n",
      "Function        Get-D365RestServiceOperationDetails                0.4.39     d365fo.integrations\n",
      "Function        Import-D365DmfPackage                              0.4.39     d365fo.integrations\n",
      "Function        Import-D365ODataEntity                             0.4.39     d365fo.integrations\n",
      "Function        Import-D365ODataEntityBatchMode                    0.4.39     d365fo.integrations\n",
      "Function        Invoke-D365DmfInit                                 0.4.39     d365fo.integrations\n",
      "Function        Invoke-D365ODataEntityAction                       0.4.39     d365fo.integrations\n",
      "Function        Invoke-D365RestEndpoint                            0.4.39     d365fo.integrations\n",
      "Function        Remove-D365ODataEntity                             0.4.39     d365fo.integrations\n",
      "Function        Remove-D365ODataEntityBatchMode                    0.4.39     d365fo.integrations\n",
      "Function        Set-D365ActiveODataConfig                          0.4.39     d365fo.integrations\n",
      "Function        Set-D365ODataTokenInSession                        0.4.39     d365fo.integrations\n",
      "Function        Update-D365ODataEntity                             0.4.39     d365fo.integrations\n",
      "Function        Update-D365ODataEntityBatchMode                    0.4.39     d365fo.integrations\n",
      "\n"
     ]
    }
   ],
   "source": [
    "Get-Command -Module d365fo.integrations"
   ]
  },
  {
   "cell_type": "markdown",
   "metadata": {},
   "source": [
    "# Learn more about a cmdlet\n",
    "\n",
    "The names of the cmdlets follow the conventions for using a [PowerShell verb](https://docs.microsoft.com/en-us/powershell/scripting/developer/cmdlet/approved-verbs-for-windows-powershell-commands) as the first part of the name. If you are familiar with that convention, you can already guess from the name alone a lot about the purpose of a cmdlet.\n",
    "\n",
    "To learn more about a cmdlet, you can use the `Get-Help` cmdlet, which was introduced in [Get Started](Get-Started.ipynb)."
   ]
  },
  {
   "cell_type": "code",
   "execution_count": 3,
   "metadata": {
    "dotnet_interactive": {
     "language": "pwsh"
    },
    "polyglot_notebook": {
     "kernelName": "pwsh"
    },
    "vscode": {
     "languageId": "polyglot-notebook"
    }
   },
   "outputs": [
    {
     "name": "stdout",
     "output_type": "stream",
     "text": [
      "\n",
      "NAME\n",
      "    Add-D365ODataConfig\n",
      "    \n",
      "SYNOPSIS\n",
      "    Save an OData config\n",
      "    \n",
      "    \n",
      "SYNTAX\n",
      "    Add-D365ODataConfig [-Name] <String> [[-Tenant] <String>] [[-Url] <String>] [[-SystemUrl] \n",
      "    <String>] [[-ClientId] <String>] [[-ClientSecret] <String>] [-Temporary] [-Force] \n",
      "    [-EnableException] [<CommonParameters>]\n",
      "    \n",
      "    \n",
      "DESCRIPTION\n",
      "    Adds an OData config to the configuration store\n",
      "    \n",
      "\n",
      "RELATED LINKS\n",
      "    Clear-D365ActiveBroadcastMessageConfig \n",
      "    Get-D365ActiveBroadcastMessageConfig \n",
      "    Get-D365BroadcastMessageConfig \n",
      "    Remove-D365BroadcastMessageConfig \n",
      "    Send-D365BroadcastMessage \n",
      "    Set-D365ActiveBroadcastMessageConfig \n",
      "\n",
      "REMARKS\n",
      "    To see the examples, type: \"Get-Help Add-D365ODataConfig -Examples\"\n",
      "    For more information, type: \"Get-Help Add-D365ODataConfig -Detailed\"\n",
      "    For technical information, type: \"Get-Help Add-D365ODataConfig -Full\"\n",
      "    For online help, type: \"Get-Help Add-D365ODataConfig -Online\"\n",
      "\n"
     ]
    }
   ],
   "source": [
    "Get-Help Add-D365ODataConfig"
   ]
  },
  {
   "cell_type": "markdown",
   "metadata": {},
   "source": [
    "# Authenticate\n",
    "\n",
    "Remember that in order to run a cmdlet, you must provide a configuration that the module can use to authenticate with a Dynamics 365 Finance and Operations environment. Review [Get Started](Get-Started.ipynb) on how to do this. For the purpose of this notebook, the following cell is provided to create a configuration and set it as the active one. Note the `-Temporary` switches that will create the configuration only for this PowerShell session, but will not persist them."
   ]
  },
  {
   "cell_type": "code",
   "execution_count": null,
   "metadata": {
    "dotnet_interactive": {
     "language": "pwsh"
    },
    "polyglot_notebook": {
     "kernelName": "pwsh"
    },
    "vscode": {
     "languageId": "polyglot-notebook"
    }
   },
   "outputs": [],
   "source": [
    "$tenantId = Read-Host -Prompt \"Enter your tenant id\"\n",
    "$clientId = Read-Host -Prompt \"Enter your client id\"\n",
    "$clientSecret = Read-Host -Prompt \"Enter your client secret\"\n",
    "$name = Read-Host -Prompt \"Enter a name for the configuration\"\n",
    "$url = Read-Host -Prompt \"Enter the URL of the D365FO environment\"\n",
    "\n",
    "Add-D365ODataConfig -Tenant $tenantId -ClientId $clientId -ClientSecret $clientSecret -Name $name -Url $url -Temporary\n",
    "Set-D365ActiveODataConfig -Name $name -Temporary"
   ]
  },
  {
   "cell_type": "markdown",
   "metadata": {},
   "source": [
    "# The Get cmdlets\n",
    "\n",
    "The `Get` cmdlets are used to retrieve information from the Dynamics 365 Finance and Operations environment. They are often easy to use and provide interesting output, which makes them good candidates to explore first.\n",
    "\n",
    "To only list the `Get` cmdlets, you can use the `Where-Object` cmdlet to filter the output of `Get-Command`."
   ]
  },
  {
   "cell_type": "code",
   "execution_count": 6,
   "metadata": {
    "dotnet_interactive": {
     "language": "pwsh"
    },
    "polyglot_notebook": {
     "kernelName": "pwsh"
    },
    "vscode": {
     "languageId": "polyglot-notebook"
    }
   },
   "outputs": [
    {
     "name": "stdout",
     "output_type": "stream",
     "text": [
      "\n",
      "\u001b[32;1mCommandType    \u001b[0m\u001b[32;1m Name                                              \u001b[0m\u001b[32;1m Version   \u001b[0m\u001b[32;1m Source\u001b[0m\n",
      "\u001b[32;1m-----------    \u001b[0m \u001b[32;1m----                                              \u001b[0m \u001b[32;1m-------   \u001b[0m \u001b[32;1m------\u001b[0m\n",
      "Function        Get-D365ActiveODataConfig                          0.4.39     d365fo.integrations\n",
      "Function        Get-D365DmfDataEntity                              0.4.39     d365fo.integrations\n",
      "Function        Get-D365DmfMessageStatus                           0.4.39     d365fo.integrations\n",
      "Function        Get-D365ODataConfig                                0.4.39     d365fo.integrations\n",
      "Function        Get-D365ODataEntityData                            0.4.39     d365fo.integrations\n",
      "Function        Get-D365ODataEntityDataByKey                       0.4.39     d365fo.integrations\n",
      "Function        Get-D365ODataEntityKey                             0.4.39     d365fo.integrations\n",
      "Function        Get-D365ODataEntityMandatoryField                  0.4.39     d365fo.integrations\n",
      "Function        Get-D365ODataEntityUrl                             0.4.39     d365fo.integrations\n",
      "Function        Get-D365ODataMetadata                              0.4.39     d365fo.integrations\n",
      "Function        Get-D365ODataPublicEntity                          0.4.39     d365fo.integrations\n",
      "Function        Get-D365ODataPublicEnum                            0.4.39     d365fo.integrations\n",
      "Function        Get-D365ODataToken                                 0.4.39     d365fo.integrations\n",
      "Function        Get-D365ODataTokenInteractive                      0.4.39     d365fo.integrations\n",
      "Function        Get-D365RestService                                0.4.39     d365fo.integrations\n",
      "Function        Get-D365RestServiceGroup                           0.4.39     d365fo.integrations\n",
      "Function        Get-D365RestServiceOperation                       0.4.39     d365fo.integrations\n",
      "Function        Get-D365RestServiceOperationDetails                0.4.39     d365fo.integrations\n",
      "\n"
     ]
    }
   ],
   "source": [
    "Get-Command -Module d365fo.integrations -Verb Get"
   ]
  },
  {
   "cell_type": "markdown",
   "metadata": {},
   "source": [
    "You already learned in [Get Started](Get-Started.ipynb) that you can use `Get-D365ODataConfig` to list the available configurations. Can you guess what the `Get-D365ActiveODataConfig` cmdlet does?\n",
    "\n",
    "Other `Get` cmdlets cover information and data about OData entities (you already learned about `Get-D365ODataPublicEntity` in, you guessed it, [Get Started](Get-Started.ipynb)), rest services and entities available in the data management framework (DMF) of Dynamics 365 Finance and Operations.\n",
    "\n",
    "# Other cmdlets\n",
    "\n",
    "The `Get` cmdlets are not the only ones available. Other cmdlets are used to create, update, and delete data, or to perform other operations in the Dynamics 365 Finance and Operations environment. They are however related to the same concepts that the `Get` cmdlets cover. In later, more scenario-focused notebooks, you will learn about them. For now, you can use the `Get-Command` and `Get-Help` cmdlets to explore them. Feel free to use the following cell for your own experiments."
   ]
  },
  {
   "cell_type": "code",
   "execution_count": 8,
   "metadata": {
    "dotnet_interactive": {
     "language": "pwsh"
    },
    "polyglot_notebook": {
     "kernelName": "pwsh"
    },
    "vscode": {
     "languageId": "polyglot-notebook"
    }
   },
   "outputs": [],
   "source": [
    "# How about getting a list of all Rest services that are available in the \"DMFService\" service group?"
   ]
  }
 ],
 "metadata": {
  "kernelspec": {
   "display_name": ".NET (C#)",
   "language": "C#",
   "name": ".net-csharp"
  },
  "language_info": {
   "name": "csharp"
  },
  "polyglot_notebook": {
   "kernelInfo": {
    "defaultKernelName": "csharp",
    "items": [
     {
      "aliases": [],
      "name": "csharp"
     }
    ]
   }
  }
 },
 "nbformat": 4,
 "nbformat_minor": 2
}
