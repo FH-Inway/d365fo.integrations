{
 "cells": [
  {
   "attachments": {},
   "cell_type": "markdown",
   "metadata": {},
   "source": [
    "# Get Started\n",
    "\n",
    "This notebook will guide you through the first steps of using the d365fo.integrations module.\n",
    "\n",
    "## Prerequisites\n",
    "\n",
    "To make full use of this notebook, open it in Visual Studio Code with the PowerShell and Polyglot extensions installed.\n",
    "\n",
    "To use the d365fo.integrations PowerShell module, version 5.1 of PowerShell needs to be installed as well. Many cmdlets of the module will also require a D365FO installation and internet access.\n",
    "\n",
    "## Installation\n",
    "\n",
    "The d365fo.tools module can be installed from the PowerShell Gallery. To do so, run the following PowerShell command:"
   ]
  },
  {
   "cell_type": "code",
   "execution_count": null,
   "metadata": {
    "dotnet_interactive": {
     "language": "pwsh"
    },
    "polyglot_notebook": {
     "kernelName": "pwsh"
    }
   },
   "outputs": [],
   "source": [
    "Install-Module d365fo.integrations -Scope CurrentUser"
   ]
  },
  {
   "attachments": {},
   "cell_type": "markdown",
   "metadata": {},
   "source": [
    "### Non-administrator and administrator installation\n",
    "\n",
    "This will install the module in the current user's scope. Many cmdlets will require administrator privileges to run, so it is recommended to install the module in the AllUsers scope instead. To do so, run the following command. Note that you should run Visual Studio Code as administrator to do this. If you later plan to use the module without Visual Studio Code, make sure to open the PowerShell console as administrator as well."
   ]
  },
  {
   "cell_type": "code",
   "execution_count": null,
   "metadata": {
    "dotnet_interactive": {
     "language": "pwsh"
    },
    "polyglot_notebook": {
     "kernelName": "pwsh"
    }
   },
   "outputs": [],
   "source": [
    "Install-Module d365fo.integrations -Scope AllUsers"
   ]
  },
  {
   "attachments": {},
   "cell_type": "markdown",
   "metadata": {},
   "source": [
    "### Installation prompts\n",
    "\n",
    "Either way, the installation may prompt you for questions / confirmations about core PowerShell configurations. You need to either accept or approve all the prompts for the module to work correctly. The prompts usually require you to enter \"y\" (for yes) or \"a\" (for \"yes to all\")."
   ]
  },
  {
   "attachments": {},
   "cell_type": "markdown",
   "metadata": {},
   "source": [
    "## Importing the module\n",
    "\n",
    "Once the module is installed, it can be imported into the current PowerShell session. To do so, run the following command."
   ]
  },
  {
   "cell_type": "code",
   "execution_count": null,
   "metadata": {
    "dotnet_interactive": {
     "language": "pwsh"
    },
    "polyglot_notebook": {
     "kernelName": "pwsh"
    }
   },
   "outputs": [],
   "source": [
    "Import-Module d365fo.integrations"
   ]
  },
  {
   "attachments": {},
   "cell_type": "markdown",
   "metadata": {},
   "source": [
    "## Using the module\n",
    "\n",
    "### Creating a configuration\n",
    "\n",
    "Now that the module is imported, you can start using its cmdlets. To get started, you need to define a configuration. Other cmdlets will use the configuration to connect to a D365FO environment to interact with its API endpoints."
   ]
  },
  {
   "cell_type": "code",
   "execution_count": null,
   "metadata": {
    "dotnet_interactive": {
     "language": "pwsh"
    },
    "polyglot_notebook": {
     "kernelName": "pwsh"
    }
   },
   "outputs": [],
   "source": [
    "$Configuration = @{\n",
    "    Name = \"MyConfig\"\n",
    "    Tenant = \"someguid-1234-5678-abcd-123456789012\"\n",
    "    URL = \"https://myd365fotestenvironment.sandbox.operations.dynamics.com\"\n",
    "    ClientId = \"moreguid-1234-5678-abcd-123456789012\"\n",
    "    ClientSecret = \"NeverCheckMeIntoVersionControl\"\n",
    "}\n",
    "Add-D365ODataConfig @Configuration -Verbose"
   ]
  },
  {
   "cell_type": "markdown",
   "metadata": {},
   "source": [
    "### Listing configurations\n",
    "\n",
    "In case you need to take a look at the configuration that was created at a later time, the `Get-D365ODataConfig` cmdlet can be used."
   ]
  },
  {
   "cell_type": "code",
   "execution_count": null,
   "metadata": {
    "dotnet_interactive": {
     "language": "pwsh"
    },
    "polyglot_notebook": {
     "kernelName": "pwsh"
    }
   },
   "outputs": [],
   "source": [
    "Get-D365ODataConfig"
   ]
  },
  {
   "cell_type": "markdown",
   "metadata": {},
   "source": [
    "### Setting the active configuration\n",
    "\n",
    "Since there can be multiple configurations, we need to let the module know which one it should use. This can be done with the `Set-D365ActiveODataConfig` cmdlet. Note the `-Temporary` switch that tells the module that the active configuration should only be available in the current PowerShell session. Once the session closes, the configuration data will not be available anymore. This should be considered a safety mechanism."
   ]
  },
  {
   "cell_type": "code",
   "execution_count": null,
   "metadata": {
    "dotnet_interactive": {
     "language": "pwsh"
    },
    "polyglot_notebook": {
     "kernelName": "pwsh"
    }
   },
   "outputs": [],
   "source": [
    "Set-D365ActiveODataConfig -Name MyConfig -Temporary"
   ]
  },
  {
   "cell_type": "markdown",
   "metadata": {},
   "source": [
    "### Getting a list of entities\n",
    "\n",
    "Now that we have an active configuration, we can use the module to actually work with the APIs of the D365FO environment identified by the configuration. One often used cmdlet is `Get-D365ODataPublicEntity`, which provides a list of OData entities. The `-EntitynameContains` parameter is used to limit the number of entities (of which there are thousands). The `-OutNamesOnly` switch is used to only list the entity names. Try running the cmdlet without it to get the full information for an entity."
   ]
  },
  {
   "cell_type": "code",
   "execution_count": 15,
   "metadata": {
    "dotnet_interactive": {
     "language": "pwsh"
    },
    "polyglot_notebook": {
     "kernelName": "pwsh"
    }
   },
   "outputs": [
    {
     "name": "stdout",
     "output_type": "stream",
     "text": [
      "\n",
      "\u001b[32;1mDataEntityName                                 EntityName\u001b[0m\n",
      "\u001b[32;1m--------------                                 ----------\u001b[0m\n",
      "BusinessDocumentSalesInvoiceBase               BusinessDocumentSalesInvoiceBases\n",
      "BusinessDocumentSalesInvoiceLineItem           BusinessDocumentSalesInvoiceLineItems\n",
      "ExternallyMaintainedCustomerSalesInvoiceHeader ExternallyMaintainedCustomerSalesInvoiceHeaders\n",
      "ExternallyMaintainedCustomerSalesInvoiceLine   ExternallyMaintainedCustomerSalesInvoiceLines\n",
      "ExternallyMaintainedCustomerSalesInvoiceLineV2 ExternallyMaintainedCustomerSalesInvoiceLinesV2\n",
      "SalesInvoiceChorusProDetail                    SalesInvoiceChorusProDetails\n",
      "SalesInvoiceHeader                             SalesInvoiceHeaders\n",
      "SalesInvoiceHeaderV2                           SalesInvoiceHeadersV2\n",
      "SalesInvoiceJournalHeader                      SalesInvoiceJournalHeaders\n",
      "SalesInvoiceLine                               SalesInvoiceLines\n",
      "SalesInvoiceQRCode                             SalesInvoiceQRCode\n",
      "SalesInvoiceV2Line                             SalesInvoiceV2Lines\n",
      "SalesInvoiceV3Line                             SalesInvoiceV3Lines\n",
      "\n"
     ]
    }
   ],
   "source": [
    "Get-D365ODataPublicEntity -EntityNameContains SalesInvoice -OutNamesOnly"
   ]
  }
 ],
 "metadata": {
  "kernelspec": {
   "display_name": ".NET (C#)",
   "language": "C#",
   "name": ".net-csharp"
  },
  "language_info": {
   "name": "polyglot-notebook"
  },
  "polyglot_notebook": {
   "kernelInfo": {
    "defaultKernelName": "csharp",
    "items": [
     {
      "aliases": [],
      "name": "csharp"
     }
    ]
   }
  }
 },
 "nbformat": 4,
 "nbformat_minor": 2
}
